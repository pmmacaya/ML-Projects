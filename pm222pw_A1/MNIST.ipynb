{
 "cells": [
  {
   "cell_type": "markdown",
   "metadata": {},
   "source": [
    "# Assignment 1\n",
    "## Exercise 3: MNIST k-NN classification\n",
    "First, I import the packages I'm going to use during the exercise: \n",
    "- [numpy](www.numpy.org)\n",
    "- [matplotlib](http://matplotlib.org) \n",
    "- [cdist](https://docs.scipy.org/doc/scipy/reference/generated/scipy.spatial.distance.cdist.html) from scipy\n",
    "- [scikit-learn](https://scikit-learn.org) Used to load and split the data. "
   ]
  },
  {
   "cell_type": "code",
   "execution_count": 1,
   "metadata": {},
   "outputs": [],
   "source": [
    "import numpy as np\n",
    "from scipy.spatial.distance import cdist\n",
    "import matplotlib.pyplot as plt\n",
    "\n",
    "from sklearn.datasets import fetch_openml\n",
    "from sklearn.model_selection import train_test_split\n",
    "from sklearn.metrics.pairwise import euclidean_distances"
   ]
  },
  {
   "cell_type": "code",
   "execution_count": 2,
   "metadata": {},
   "outputs": [],
   "source": [
    "# load data from https://www.openml.org/d/554\n",
    "X, y = fetch_openml('mnist_784', version=1, return_X_y=True)"
   ]
  },
  {
   "cell_type": "markdown",
   "metadata": {},
   "source": [
    "I have splitted data randomly between train and test data and their respective labels with the help of scikit-learn's train_test_split (instead of random.shuffle() and divide the X and y):"
   ]
  },
  {
   "cell_type": "code",
   "execution_count": 3,
   "metadata": {},
   "outputs": [],
   "source": [
    "# split data\n",
    "X_train, X_test, y_train, y_test = train_test_split(X, y, train_size=60000, test_size=10000)"
   ]
  },
  {
   "cell_type": "code",
   "execution_count": 4,
   "metadata": {},
   "outputs": [
    {
     "name": "stdout",
     "output_type": "stream",
     "text": [
      "<class 'pandas.core.frame.DataFrame'>\n"
     ]
    }
   ],
   "source": [
    "print(type(X_train))"
   ]
  },
  {
   "cell_type": "markdown",
   "metadata": {},
   "source": [
    "In order to optimize the performance of my model, I had to change my function that calculates the distance so that it takes two matrices as argument. As I did in exercise 1, I wanted to avoid loops as much as possible and wanted to take advantage of numpy's broadcasting. I checked a few ways to calculate the euclidean distance and compare them as done in these articles:\n",
    "\n",
    "[Optimising pairwise Euclidean distance calculations using Python](https://towardsdatascience.com/optimising-pairwise-euclidean-distance-calculations-using-python-fc020112c984)\n",
    "\n",
    "[High-Performance computation in Python | NumPy](https://semantive.com/high-performance-computation-in-python-numpy-2/)\n",
    "\n",
    "So, since I wanted to calculate the distance without using scikit-learn, I decided to compare the time consumed by the following calculations:\n",
    "\n",
    "- [cdist](https://docs.scipy.org/doc/scipy/reference/generated/scipy.spatial.distance.cdist.html) from scipy.\n",
    "- with the help of the [Einstein summation convention](https://numpy.org/doc/stable/reference/generated/numpy.einsum.html)\n",
    "\n",
    "When timing the computation of the whole train/test sets distances, I got (in my rather old computer) the following times:\n",
    "\n",
    "cdist\n",
    "\n",
    "14min 20s ± 1min 35s per loop (mean ± std. dev. of 7 runs, 1 loop each)\n",
    "\n",
    "einsum\n",
    "\n",
    "4min 44s ± 19.6 s per loop (mean ± std. dev. of 7 runs, 1 loop each)\n",
    "\n",
    "So I decided to use the Einstein summation convention where np.sum(np-power(X_train,2), axis=1) is the same as np.einsum('ij,ij->i', X_train, X_train)\n",
    "\n",
    "(I got the best performance with euclidean_distances from scikit-learn, but I guess I cannot use it)"
   ]
  },
  {
   "cell_type": "code",
   "execution_count": 5,
   "metadata": {},
   "outputs": [],
   "source": [
    "def calculate_distance(X_train, X_test):\n",
    "\n",
    "    #distances = -2 * np.dot(X_test, X_train.T) + np.sum(X_train**2, axis=1) + np.sum(X_test**2, axis=1)[:, np.newaxis]\n",
    "    #distances = cdist(X_test, X_train)\n",
    "    #distances = euclidean_distances(X_test, X_train)\n",
    "    \n",
    "    distances = np.einsum('ij,ij->i', X_train, X_train) + np.einsum('ij,ij->i', X_test, X_test)[:,np.newaxis] -2 * np.dot(X_test, X_train.T)\n",
    "    return distances"
   ]
  },
  {
   "cell_type": "markdown",
   "metadata": {},
   "source": [
    "In my original knn classifier I calculate the distances with each iteration which doesn't result in such great performance. So this time I decided to compute the distances outside the knn function since we are using the same data in each iteration."
   ]
  },
  {
   "cell_type": "code",
   "execution_count": 6,
   "metadata": {},
   "outputs": [],
   "source": [
    "def get_sorted_index(X_train, X_test):\n",
    "\n",
    "    distances = calculate_distance(X_train, X_test)\n",
    "\n",
    "    sorted_index = np.argsort(distances, axis=1) \n",
    "    \n",
    "    return sorted_index"
   ]
  },
  {
   "cell_type": "markdown",
   "metadata": {},
   "source": [
    "The knn classifier now returns a list of all the predictions for the test set:"
   ]
  },
  {
   "cell_type": "code",
   "execution_count": 7,
   "metadata": {},
   "outputs": [],
   "source": [
    "def knn(sorted_index, y_train, k):\n",
    "    \n",
    "    predictions = []\n",
    "    \n",
    "    for dist in sorted_index: \n",
    "        \n",
    "        # get k nearest neighbours labels\n",
    "        k_idx = dist[:k]\n",
    "        closest_neighbours = y_train[k_idx]\n",
    "\n",
    "        # most common label\n",
    "        labels, votes = np.unique(closest_neighbours, return_counts=True)\n",
    "        most_voted_label = np.argmax(votes)\n",
    "\n",
    "        predictions.append(labels[most_voted_label]) # add the predicted value to list\n",
    "    \n",
    "    return predictions"
   ]
  },
  {
   "cell_type": "markdown",
   "metadata": {},
   "source": [
    "I decide to use accuracy to evaluate my model since it's a widely used metric to evaluate classification. Usually the k-value range is chosen from k=sqrt(n) but in this case it wasn't neccessary to get predictions from so many values as we will see after trying k = (1-25):"
   ]
  },
  {
   "cell_type": "code",
   "execution_count": null,
   "metadata": {},
   "outputs": [],
   "source": [
    "sorted_index = get_sorted_index(X_train, X_test)\n",
    "\n",
    "accuracy_list=[]\n",
    "\n",
    "for k in range(1,26,2):\n",
    "    \n",
    "    # get predictions of the test set\n",
    "    predictions = knn(sorted_index, y_train, k)\n",
    "\n",
    "    # calculate accuracy\n",
    "    accuracy = (np.sum(np.equal(predictions, y_test) == True) / len(predictions)) * 100\n",
    "\n",
    "    accuracy_list.append(accuracy)\n",
    "    \n",
    "    print(f\"k = {k}\")\n",
    "    print(f\"Accuracy: {accuracy}\")\n",
    "    print()"
   ]
  },
  {
   "cell_type": "markdown",
   "metadata": {},
   "source": [
    "I decided to plot the accuracy of the model for the different k-values so that it's easier to analyze the results:"
   ]
  },
  {
   "cell_type": "code",
   "execution_count": 124,
   "metadata": {},
   "outputs": [
    {
     "data": {
      "image/png": "[encoded data removed]",
      "text/plain": [
       "<Figure size 432x288 with 1 Axes>"
      ]
     },
     "metadata": {
      "needs_background": "light"
     },
     "output_type": "display_data"
    }
   ],
   "source": [
    "plt.plot(range(1,26,2), accuracy_list, marker=\"o\")\n",
    "plt.xlabel('Number of Neighbors')\n",
    "plt.ylabel('Accuracy')\n",
    "plt.show()"
   ]
  },
  {
   "cell_type": "markdown",
   "metadata": {},
   "source": [
    "As we can see in the figure, I got the best result when k = 3 with 97.54% accuracy which is the same, in this particular case, as the least test error. To check the model for larger values of k wasn't neccessary as the accuracy decreases with larger k values."
   ]
  },
  {
   "cell_type": "code",
   "execution_count": null,
   "metadata": {},
   "outputs": [],
   "source": []
  }
 ],
 "metadata": {
  "kernelspec": {
   "display_name": "Python 3",
   "language": "python",
   "name": "python3"
  },
  "language_info": {
   "codemirror_mode": {
    "name": "ipython",
    "version": 3
   },
   "file_extension": ".py",
   "mimetype": "text/x-python",
   "name": "python",
   "nbconvert_exporter": "python",
   "pygments_lexer": "ipython3",
   "version": "3.7.4"
  }
 },
 "nbformat": 4,
 "nbformat_minor": 2
}
